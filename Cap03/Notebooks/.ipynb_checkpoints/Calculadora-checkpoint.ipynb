{
 "cells": [
  {
   "cell_type": "code",
   "execution_count": 23,
   "metadata": {},
   "outputs": [
    {
     "name": "stdout",
     "output_type": "stream",
     "text": [
      "\n",
      " **************************** Calculadora em Python ****************************\n",
      "\n",
      " Selecione o número da operação desejada: \n",
      "\n",
      "1 - Soma\n",
      "2 - Subtração\n",
      "3 - Multiplicação\n",
      "4 - Divisão\n",
      "\n",
      " Digite sua opção (1/2/3/4):4\n",
      "\n",
      " Digite o primeiro número:20\n",
      "\n",
      " Digite o segundo número:4\n",
      "\n",
      "\n",
      "20 / 4 = 5.0\n",
      "\n",
      "\n"
     ]
    }
   ],
   "source": [
    "#Primeiro programa em Python: Calculadora\n",
    "print(\"\\n **************************** Calculadora em Python ****************************\")\n",
    "\n",
    "def add(x, y):\n",
    "    return x+y\n",
    "\n",
    "def subtract(x, y):\n",
    "    return x-y\n",
    "\n",
    "def multiply(x, y):\n",
    "    return x*y\n",
    "\n",
    "def divide(x, y):\n",
    "    return x/y\n",
    "\n",
    "print(\"\\n Selecione o número da operação desejada: \\n\")\n",
    "print(\"1 - Soma\")\n",
    "print(\"2 - Subtração\")\n",
    "print(\"3 - Multiplicação\")\n",
    "print(\"4 - Divisão\")\n",
    "\n",
    "vOpcao = input(\"\\n Digite sua opção (1/2/3/4):\")\n",
    "vPrimeiro = int(input(\"\\n Digite o primeiro número:\"))\n",
    "vSegundo = int(input(\"\\n Digite o segundo número:\"))\n",
    "\n",
    "if vOpcao == '1':\n",
    "    print(\"\\n\")\n",
    "    print(vPrimeiro, \"+\", vSegundo, \"=\", add(vPrimeiro, vSegundo))\n",
    "    print(\"\\n\")\n",
    "elif vOpcao == '2': \n",
    "    print(\"\\n\")\n",
    "    print(vPrimeiro, \"-\", vSegundo, \"=\", subtract(vPrimeiro, vSegundo))  \n",
    "    print(\"\\n\")\n",
    "elif vOpcao == '3':\n",
    "    print(\"\\n\")\n",
    "    print(vPrimeiro, \"*\", vSegundo, \"=\", multiply(vPrimeiro, vSegundo))   \n",
    "    print(\"\\n\")\n",
    "elif vOpcao == '4':\n",
    "    print(\"\\n\")\n",
    "    print(vPrimeiro, \"/\", vSegundo, \"=\", divide(vPrimeiro, vSegundo))\n",
    "    print(\"\\n\")\n",
    "else:\n",
    "    print(\"Opção Inválida!\")"
   ]
  },
  {
   "cell_type": "code",
   "execution_count": null,
   "metadata": {},
   "outputs": [],
   "source": []
  }
 ],
 "metadata": {
  "kernelspec": {
   "display_name": "Python 3",
   "language": "python",
   "name": "python3"
  },
  "language_info": {
   "codemirror_mode": {
    "name": "ipython",
    "version": 3
   },
   "file_extension": ".py",
   "mimetype": "text/x-python",
   "name": "python",
   "nbconvert_exporter": "python",
   "pygments_lexer": "ipython3",
   "version": "3.8.5"
  }
 },
 "nbformat": 4,
 "nbformat_minor": 4
}
